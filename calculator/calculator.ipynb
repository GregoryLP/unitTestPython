{
 "cells": [
  {
   "attachments": {},
   "cell_type": "markdown",
   "metadata": {},
   "source": [
    "## Exercice 1"
   ]
  },
  {
   "cell_type": "code",
   "execution_count": null,
   "metadata": {},
   "outputs": [],
   "source": [
    "class Calculator:\n",
    "    def add(x, y):\n",
    "        return x + y\n",
    "    def subtract(x, y):\n",
    "        return x - y\n",
    "    def multiply(x, y):\n",
    "        return x * y\n",
    "    def divide(x, y):\n",
    "        return x / y\n",
    "    def power(x, y):\n",
    "        result = 1\n",
    "        for i in range(y):\n",
    "            result *= x\n",
    "        return result\n",
    "    def square_root(x):\n",
    "        if x == 0 or x == 1:\n",
    "            return x\n",
    "        val = x\n",
    "        precision = 0.0000001\n",
    "        while abs(val - x / val) > precision:\n",
    "            val = (val + x / val) / 2\n",
    "        return val\n"
   ]
  },
  {
   "cell_type": "code",
   "execution_count": null,
   "metadata": {},
   "outputs": [],
   "source": [
    "def calculate(operation, x, y):\n",
    "    if operation == \"add\":\n",
    "        result = Calculator.add(x,y)\n",
    "    elif operation == \"substract\":\n",
    "        result = Calculator.subtract(x,y)\n",
    "    elif operation == \"multiply\":\n",
    "        result = Calculator.multiply(x,y)\n",
    "    elif operation == \"divide\":\n",
    "        result = Calculator.divide(x,y)\n",
    "    elif operation == \"power\":\n",
    "        result = Calculator.power(x,y)\n",
    "    elif operation == \"square_root\":\n",
    "        result = Calculator.square_root(x)\n",
    "    return result\n",
    "\n",
    "operation = input(\"Enter the operation you would like to perform (add, subtract, multiply, divide, square_root, power): \")\n",
    "num1 = int(input(\"Enter the first number : \"))\n",
    "num2 = int(input(\"Enter the secod number : \"))\n",
    "print(calculate(operation, num1, num2))\n"
   ]
  },
  {
   "attachments": {},
   "cell_type": "markdown",
   "metadata": {},
   "source": [
    "## Exercice 2"
   ]
  },
  {
   "cell_type": "code",
   "execution_count": null,
   "metadata": {},
   "outputs": [],
   "source": [
    "class Book:\n",
    "    def __init__(self, title, author):\n",
    "        self.title = title\n",
    "        self.author = author\n",
    "        self.is_checked_out = False\n",
    "    def check_out(self):\n",
    "        self.is_checked_out = True\n",
    "        print(f\"{self.title} by {self.author} has been checked out.\")\n",
    "    def check_in(self):\n",
    "        self.is_checked_out = False\n",
    "        print(f\"{self.title} by {self.author} has been checked in.\")\n",
    "\n",
    "class Library:\n",
    "    def __init__(self):\n",
    "        self.books = []\n",
    "    def add_book(self, book):\n",
    "        self.books.append(book)\n",
    "        print(f\"{book.title} by {book.author} has been added to the library.\")\n",
    "    def check_out_book(self, title):\n",
    "        for book in self.books:\n",
    "            if book.title == title and not book.is_checked_out:\n",
    "                book.check_out()\n",
    "        return\n",
    "        print(f\"Sorry, {title} is not available.\")\n",
    "    def check_in_book(self, title):\n",
    "        for book in self.books:\n",
    "            if book.title == title and book.is_checked_out:\n",
    "                book.check_in()\n",
    "        return\n",
    "        print(f\"Sorry, {title} is not in the library.\")\n",
    "    \n",
    "class Client:\n",
    "    def __init__(self, name):\n",
    "        self.name = name\n",
    "        self.checked_out_books = []\n",
    "    def check_out_book(self, library, title):\n",
    "        for book in library.books:\n",
    "            if book.title == title and not book.is_checked_out:\n",
    "                book.check_out()\n",
    "                self.checked_out_books.append(book)\n",
    "            return\n",
    "            print(f\"Sorry, {title} is not available.\")\n",
    "    def check_in_book(self, library, title):\n",
    "        for book in self.checked_out_books:\n",
    "            if book.title == title:\n",
    "                book.check_in()\n",
    "                self.checked_out_books.remove(book)\n",
    "        return\n",
    "        print(f\"Sorry, {title} is not checked out.\")\n",
    "\n",
    "\n",
    "library = Library()\n",
    "book1 = Book(\"To Kill a Mockingbird\", \"Harper Lee\")\n",
    "library.add_book(book1)\n",
    "book2 = Book(\"Pride and Prejudice\", \"Jane Austen\")\n",
    "library.add_book(book2)\n",
    "client1 = Client(\"John Doe\")\n",
    "client1.check_out_book(library, \"To Kill a Mockingbird\")\n",
    "client1.check_out_book(library, \"Pride and Prejudice\")\n",
    "client2 = Client(\"Jane Doe\")\n",
    "client2.check_out_book(library, \"To Kill a Mockingbird\")\n",
    "client1.check_in_book(library, \"To Kill a Mockingbird\")"
   ]
  }
 ],
 "metadata": {
  "kernelspec": {
   "display_name": "Python 3",
   "language": "python",
   "name": "python3"
  },
  "language_info": {
   "name": "python",
   "version": "3.10.7 (tags/v3.10.7:6cc6b13, Sep  5 2022, 14:08:36) [MSC v.1933 64 bit (AMD64)]"
  },
  "orig_nbformat": 4,
  "vscode": {
   "interpreter": {
    "hash": "1372d04dbd71fdc5436c5d6e671c1b9287e750e86143c81b5a7ba0acaf653c5e"
   }
  }
 },
 "nbformat": 4,
 "nbformat_minor": 2
}
